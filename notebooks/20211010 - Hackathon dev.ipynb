{
 "cells": [
  {
   "cell_type": "markdown",
   "metadata": {},
   "source": [
    "# Hackathon Dev"
   ]
  },
  {
   "cell_type": "code",
   "execution_count": 1,
   "metadata": {
    "ExecuteTime": {
     "end_time": "2020-07-25T15:04:54.053368Z",
     "start_time": "2020-07-25T15:04:52.269729Z"
    }
   },
   "outputs": [],
   "source": [
    "# Base Data Science snippet\n",
    "import pandas as pd\n",
    "import numpy as np\n",
    "import matplotlib.pyplot as plt\n",
    "import os\n",
    "import time\n",
    "from tqdm import tqdm_notebook\n",
    "\n",
    "%matplotlib inline\n",
    "%load_ext autoreload\n",
    "%autoreload 2"
   ]
  },
  {
   "cell_type": "code",
   "execution_count": 2,
   "metadata": {
    "ExecuteTime": {
     "end_time": "2020-07-25T15:04:56.917297Z",
     "start_time": "2020-07-25T15:04:54.059385Z"
    }
   },
   "outputs": [
    {
     "name": "stdout",
     "output_type": "stream",
     "text": [
      "pygame 2.0.1 (SDL 2.0.14, Python 3.8.8)\n",
      "Hello from the pygame community. https://www.pygame.org/contribute.html\n"
     ]
    }
   ],
   "source": [
    "import sys\n",
    "sys.path.append(\"../\")\n",
    "\n",
    "from westworld.environment import GridEnvironment\n",
    "from westworld.agents import BaseAgent\n",
    "from westworld.objects import BaseObstacle,BaseTrigger,BaseCollectible\n",
    "from westworld.simulation import Simulation\n",
    "from westworld.colors import *"
   ]
  },
  {
   "cell_type": "markdown",
   "metadata": {},
   "source": [
    "# Playground"
   ]
  },
  {
   "cell_type": "markdown",
   "metadata": {},
   "source": [
    "- Multi agent\n",
    "- 5 agents par joueur\n",
    "- Carte générée aléatoirement, avec des labyrinthe\n",
    "- Les agents doivent ramasser des pièces\n",
    "- Plus ils ramassent des pièces plus ils sont forts\n",
    "- Quand ils attaquent un joueur la.probabilite de gagner est en fonction des pièces ramassées\n",
    "- Des agents peuvent bloquer défensivement pour empêcher l'ennemi d'aller chercher des pièces\n",
    "- Les agents peuvent se mettre dans des nids pour se reproduire"
   ]
  },
  {
   "cell_type": "code",
   "execution_count": 3,
   "metadata": {},
   "outputs": [],
   "source": [
    "from westworld.examples.games.hackathon import BasePlayer,GameEnvironment,MapsGenerator,NaivePlayer,show_results,RandomPlayer"
   ]
  },
  {
   "cell_type": "code",
   "execution_count": 4,
   "metadata": {},
   "outputs": [],
   "source": [
    "class Player(BasePlayer):\n",
    "    \n",
    "    def action(self):\n",
    "\n",
    "        # Find closest food\n",
    "        targets = self.find_closest(name = \"Gold\",k = 1)\n",
    "\n",
    "        # If there is still food, move towards the food\n",
    "        if len(targets) > 0:\n",
    "\n",
    "            target = targets[0]\n",
    "\n",
    "            # Use naive pathfinding for faster computation as there is no obstacle\n",
    "            self.move_towards(obj = target,naive = True)\n",
    "\n",
    "        # Otherwise just wandering\n",
    "        # Changing direction every n steps where n = curiosity\n",
    "        else:\n",
    "            self.wander()\n"
   ]
  },
  {
   "cell_type": "markdown",
   "metadata": {},
   "source": [
    "\n",
    "##### Preparing environment and simulation"
   ]
  },
  {
   "cell_type": "code",
   "execution_count": 8,
   "metadata": {
    "scrolled": false
   },
   "outputs": [
    {
     "data": {
      "image/png": "[encoded data removed]",
      "text/plain": [
       "<PIL.Image.Image image mode=RGB size=750x425 at 0x17D7F03E190>"
      ]
     },
     "execution_count": 8,
     "metadata": {},
     "output_type": "execute_result"
    }
   ],
   "source": [
    "WIDTH = 50\n",
    "HEIGHT = 25\n",
    "N_PLAYERS = 5\n",
    "\n",
    "# Setup spawners\n",
    "player1_spawner = lambda x,y : Player(x,y,player1 = True)\n",
    "player2_spawner = lambda x,y : RandomPlayer(x,y,player1 = False)\n",
    "\n",
    "# Create map\n",
    "level = MapsGenerator(WIDTH,HEIGHT).make_map1()\n",
    "\n",
    "# Setup environment\n",
    "env = GameEnvironment(WIDTH,HEIGHT,player1_spawner,player2_spawner,level = level,n_players = N_PLAYERS)\n",
    "\n",
    "# Render\n",
    "env.render(show = True)"
   ]
  },
  {
   "cell_type": "code",
   "execution_count": 9,
   "metadata": {
    "scrolled": false
   },
   "outputs": [
    {
     "data": {
      "application/vnd.jupyter.widget-view+json": {
       "model_id": "26069f2d529447fcb5819c79c89e21e0",
       "version_major": 2,
       "version_minor": 0
      },
      "text/plain": [
       "  0%|          | 0/100 [00:00<?, ?it/s]"
      ]
     },
     "metadata": {},
     "output_type": "display_data"
    },
    {
     "data": {
      "application/vnd.jupyter.widget-view+json": {
       "model_id": "707126f49b5447bcb1475b0974773c4a",
       "version_major": 2,
       "version_minor": 0
      },
      "text/plain": [
       "interactive(children=(Play(value=0, description='Press play', interval=40), Output()), _dom_classes=('widget-i…"
      ]
     },
     "metadata": {},
     "output_type": "display_data"
    },
    {
     "data": {
      "application/vnd.jupyter.widget-view+json": {
       "model_id": "c37bcaa51c004bf3bc2745b5ba59159e",
       "version_major": 2,
       "version_minor": 0
      },
      "text/plain": [
       "IntSlider(value=0)"
      ]
     },
     "metadata": {},
     "output_type": "display_data"
    }
   ],
   "source": [
    "# Setup simulation\n",
    "sim = Simulation(env,fps = 100,name=\"RabbitsVsFoxesExperiment1\")\n",
    "_,episode_data = sim.run_episode(n_steps = 100,save = False,replay = True,fps_replay=25)"
   ]
  },
  {
   "cell_type": "code",
   "execution_count": 79,
   "metadata": {},
   "outputs": [
    {
     "data": {
      "application/vnd.jupyter.widget-view+json": {
       "model_id": "fb046912f763438cb7218ba67d3d0ba8",
       "version_major": 2,
       "version_minor": 0
      },
      "text/plain": [
       "  0%|          | 0/300 [00:00<?, ?it/s]"
      ]
     },
     "metadata": {},
     "output_type": "display_data"
    },
    {
     "data": {
      "application/vnd.jupyter.widget-view+json": {
       "model_id": "0924483f24d94ddab77033de9e036d0b",
       "version_major": 2,
       "version_minor": 0
      },
      "text/plain": [
       "interactive(children=(Play(value=0, description='Press play', interval=40, max=300), Output()), _dom_classes=(…"
      ]
     },
     "metadata": {},
     "output_type": "display_data"
    },
    {
     "data": {
      "application/vnd.jupyter.widget-view+json": {
       "model_id": "3d2add630e994bae866df4cd6a978788",
       "version_major": 2,
       "version_minor": 0
      },
      "text/plain": [
       "IntSlider(value=0, max=300)"
      ]
     },
     "metadata": {},
     "output_type": "display_data"
    }
   ],
   "source": [
    "_,episode_data = sim.run_episode(n_steps = 300,save = False,replay = True,fps_replay=25)"
   ]
  },
  {
   "cell_type": "code",
   "execution_count": 7,
   "metadata": {},
   "outputs": [
    {
     "data": {
      "image/png": "[encoded data removed]",
      "text/plain": [
       "<Figure size 1080x288 with 1 Axes>"
      ]
     },
     "metadata": {
      "needs_background": "light"
     },
     "output_type": "display_data"
    }
   ],
   "source": [
    "show_results(episode_data)"
   ]
  },
  {
   "cell_type": "code",
   "execution_count": null,
   "metadata": {},
   "outputs": [],
   "source": []
  }
 ],
 "metadata": {
  "kernelspec": {
   "display_name": "Python 3 (ipykernel)",
   "language": "python",
   "name": "python3"
  },
  "language_info": {
   "codemirror_mode": {
    "name": "ipython",
    "version": 3
   },
   "file_extension": ".py",
   "mimetype": "text/x-python",
   "name": "python",
   "nbconvert_exporter": "python",
   "pygments_lexer": "ipython3",
   "version": "3.8.8"
  },
  "toc": {
   "base_numbering": 1,
   "nav_menu": {},
   "number_sections": true,
   "sideBar": true,
   "skip_h1_title": false,
   "title_cell": "Table of Contents",
   "title_sidebar": "Contents",
   "toc_cell": false,
   "toc_position": {},
   "toc_section_display": true,
   "toc_window_display": false
  }
 },
 "nbformat": 4,
 "nbformat_minor": 2
}
