{
 "cells": [
  {
   "cell_type": "markdown",
   "metadata": {},
   "source": [
    "# Hackathon Dev"
   ]
  },
  {
   "cell_type": "code",
   "execution_count": 1,
   "metadata": {
    "ExecuteTime": {
     "end_time": "2020-07-25T15:04:54.053368Z",
     "start_time": "2020-07-25T15:04:52.269729Z"
    }
   },
   "outputs": [],
   "source": [
    "# Base Data Science snippet\n",
    "import pandas as pd\n",
    "import numpy as np\n",
    "import matplotlib.pyplot as plt\n",
    "import os\n",
    "import time\n",
    "from tqdm import tqdm_notebook\n",
    "\n",
    "%matplotlib inline\n",
    "%load_ext autoreload\n",
    "%autoreload 2"
   ]
  },
  {
   "cell_type": "code",
   "execution_count": 2,
   "metadata": {
    "ExecuteTime": {
     "end_time": "2020-07-25T15:04:56.917297Z",
     "start_time": "2020-07-25T15:04:54.059385Z"
    }
   },
   "outputs": [
    {
     "name": "stdout",
     "output_type": "stream",
     "text": [
      "pygame 2.0.1 (SDL 2.0.14, Python 3.8.8)\n",
      "Hello from the pygame community. https://www.pygame.org/contribute.html\n"
     ]
    }
   ],
   "source": [
    "import sys\n",
    "sys.path.append(\"../\")\n",
    "\n",
    "from westworld.environment import GridEnvironment\n",
    "from westworld.agents import BaseAgent\n",
    "from westworld.objects import BaseObstacle,BaseTrigger,BaseCollectible\n",
    "from westworld.simulation import Simulation\n",
    "from westworld.colors import *"
   ]
  },
  {
   "cell_type": "markdown",
   "metadata": {},
   "source": [
    "# Playground"
   ]
  },
  {
   "cell_type": "markdown",
   "metadata": {},
   "source": [
    "- Multi agent\n",
    "- 5 agents par joueur\n",
    "- Carte générée aléatoirement, avec des labyrinthe\n",
    "- Les agents doivent ramasser des pièces\n",
    "- Plus ils ramassent des pièces plus ils sont forts\n",
    "- Quand ils attaquent un joueur la.probabilite de gagner est en fonction des pièces ramassées\n",
    "- Des agents peuvent bloquer défensivement pour empêcher l'ennemi d'aller chercher des pièces\n",
    "- Les agents peuvent se mettre dans des nids pour se reproduire"
   ]
  },
  {
   "cell_type": "markdown",
   "metadata": {},
   "source": [
    "##### Prepare Agents"
   ]
  },
  {
   "cell_type": "code",
   "execution_count": 110,
   "metadata": {},
   "outputs": [],
   "source": [
    "class Player(BaseAgent):\n",
    "    def __init__(self,x,y,player1 = True,reproductor = False):\n",
    "        \n",
    "        self.player1 = player1\n",
    "        self.color = RED if player1 else BLUE\n",
    "        self.gold = 0\n",
    "        self.reproductor = reproductor\n",
    "        \n",
    "        super().__init__(x,y,color = self.color)\n",
    "        \n",
    "    def postrender(self):\n",
    "        self.render_text(self.gold,size = 12,color=(255,255,255))\n",
    "        \n",
    "    @property\n",
    "    def blocking(self):\n",
    "        return False\n",
    "        \n",
    "    def step(self):\n",
    "        \n",
    "        if self.reproductor:\n",
    "            # Find closest food\n",
    "            targets = self.find_closest(name = \"ReproductionTrigger\",active = True,k = 1)\n",
    "            \n",
    "            # If there is still food, move towards the food\n",
    "            if len(targets) > 0:\n",
    "\n",
    "                target = targets[0]\n",
    "\n",
    "                # Use naive pathfinding for faster computation as there is no obstacle\n",
    "                self.move_towards(obj = target,naive = True)\n",
    "\n",
    "            # Otherwise just wandering\n",
    "            # Changing direction every n steps where n = curiosity\n",
    "            else:\n",
    "                self.wander() \n",
    "            \n",
    "        else:\n",
    "\n",
    "            # Find closest food\n",
    "            targets = self.find_closest(name = \"Gold\",k = 1)\n",
    "\n",
    "            # If there is still food, move towards the food\n",
    "            if len(targets) > 0:\n",
    "\n",
    "                target = targets[0]\n",
    "\n",
    "                # Use naive pathfinding for faster computation as there is no obstacle\n",
    "                self.move_towards(obj = target,naive = True)\n",
    "\n",
    "            # Otherwise just wandering\n",
    "            # Changing direction every n steps where n = curiosity\n",
    "            else:\n",
    "                self.wander()\n",
    "\n",
    "\n",
    "            self.log({\n",
    "                \"gold\":self.gold,\n",
    "                \"player\":self.player1\n",
    "            })\n",
    "\n",
    "        \n"
   ]
  },
  {
   "cell_type": "markdown",
   "metadata": {},
   "source": [
    "##### Prepare collectibles"
   ]
  },
  {
   "cell_type": "code",
   "execution_count": 111,
   "metadata": {},
   "outputs": [],
   "source": [
    "class Gold(BaseCollectible):\n",
    "    def __init__(self,x,y):\n",
    "        super().__init__(x,y,color = (220,150,50),img_asset = \"ball\")\n",
    "        \n",
    "    def on_trigger(self,obj):\n",
    "        obj.gold += 1    "
   ]
  },
  {
   "cell_type": "markdown",
   "metadata": {},
   "source": [
    "##### Prepare Reproduce Trigger"
   ]
  },
  {
   "cell_type": "code",
   "execution_count": 112,
   "metadata": {},
   "outputs": [],
   "source": [
    "class ReproductionTrigger(BaseTrigger):\n",
    "    \n",
    "    def __init__(self,x,y,disable_time = 20):\n",
    "        super().__init__(x,y,color = (255, 0, 255))\n",
    "        \n",
    "        self._active = 0\n",
    "        self._disable_time = disable_time\n",
    "        \n",
    "        \n",
    "    @property\n",
    "    def active(self):\n",
    "        return self._active == 0\n",
    "    \n",
    "    @property\n",
    "    def stationary(self):\n",
    "        return False\n",
    "    \n",
    "    def on_trigger(self,obj):\n",
    "        \n",
    "        if self.active:\n",
    "            \n",
    "            self._active = self._disable_time\n",
    "            \n",
    "            max_children = 1\n",
    "            n_children = np.random.randint(1,max_children + 1)\n",
    "            for i in range(n_children):\n",
    "                new_child = Player(obj.x,obj.y,player1 = obj.player1)\n",
    "                self.env.add_object(new_child)\n",
    "            \n",
    "            \n",
    "    def step(self):\n",
    "        \n",
    "        if self.active:\n",
    "            self.color = (255, 0, 255)\n",
    "        else:\n",
    "            self.color = (120,120,120)\n",
    "            self._active -= 1"
   ]
  },
  {
   "cell_type": "markdown",
   "metadata": {},
   "source": [
    "\n",
    "##### Preparing environment and simulation"
   ]
  },
  {
   "cell_type": "code",
   "execution_count": 132,
   "metadata": {},
   "outputs": [
    {
     "data": {
      "image/png": "[encoded data removed]",
      "text/plain": [
       "<PIL.Image.Image image mode=RGB size=750x375 at 0x1FEFFA5A790>"
      ]
     },
     "execution_count": 132,
     "metadata": {},
     "output_type": "execute_result"
    }
   ],
   "source": [
    "WIDTH = 50\n",
    "HEIGHT = 25\n",
    "\n",
    "# Setup spawners\n",
    "gold_spawner = lambda x,y : Gold(x,y)\n",
    "player1_spawner = lambda x,y : Player(x,y,player1 = True)\n",
    "player2_spawner = lambda x,y : Player(x,y,player1 = False)\n",
    "reproduction_spawner = lambda x,y : ReproductionTrigger(x,y)\n",
    "obstacle_spawner = lambda x,y,width,height : BaseObstacle(x,y,width,height,color = (230, 230, 250))\n",
    "\n",
    "repro = Player(20,10,player1 = True,reproductor=True)\n",
    "\n",
    "triggers = [\n",
    "    reproduction_spawner(1,1),\n",
    "    reproduction_spawner(WIDTH-2,1),\n",
    "    reproduction_spawner(1,HEIGHT-2),\n",
    "    reproduction_spawner(WIDTH-2,HEIGHT-2),\n",
    "]\n",
    "\n",
    "obstacles = [\n",
    "    obstacle_spawner(0,0,WIDTH,1), # Top contour\n",
    "    obstacle_spawner(0,0,1,HEIGHT), # Left contour\n",
    "    obstacle_spawner(WIDTH-1,0,1,HEIGHT), # Right contour \n",
    "    obstacle_spawner(0,HEIGHT-1,WIDTH,1), # Bottom contour\n",
    "] \n",
    "\n",
    "\n",
    "class GameEnvironment(GridEnvironment):\n",
    "    \n",
    "    def post_step(self):\n",
    "        \n",
    "        gold_left = self.find(name = \"Gold\")\n",
    "        self.log({\"gold_left\":len(gold_left)})\n",
    "        \n",
    "        if self.clock > 0 and self.clock % 1 == 0:\n",
    "            self.spawn(gold_spawner,1)\n",
    "            \n",
    "\n",
    "# Setup environment\n",
    "env = GameEnvironment(WIDTH,HEIGHT,15,show_grid = True,background_color=(22, 41, 60),grid_color=(34, 46, 75),toroidal=True)\n",
    "\n",
    "# Add obstacles and triggers\n",
    "env.add_object(triggers)\n",
    "env.add_object(obstacles)\n",
    "env.add_object(repro)\n",
    "\n",
    "# Add players and collectibles\n",
    "env.spawn(player1_spawner,5)\n",
    "env.spawn(player2_spawner,5)\n",
    "env.spawn(gold_spawner,200)\n",
    "\n",
    "# Render\n",
    "env.render()\n",
    "env.get_img()"
   ]
  },
  {
   "cell_type": "code",
   "execution_count": 133,
   "metadata": {},
   "outputs": [
    {
     "data": {
      "application/vnd.jupyter.widget-view+json": {
       "model_id": "73d34c92a074472e8faba081b21bf9ec",
       "version_major": 2,
       "version_minor": 0
      },
      "text/plain": [
       "  0%|          | 0/300 [00:00<?, ?it/s]"
      ]
     },
     "metadata": {},
     "output_type": "display_data"
    },
    {
     "data": {
      "application/vnd.jupyter.widget-view+json": {
       "model_id": "e7075704e1a649b49ddcec957e87ed2b",
       "version_major": 2,
       "version_minor": 0
      },
      "text/plain": [
       "interactive(children=(Play(value=0, description='Press play', interval=40, max=300), Output()), _dom_classes=(…"
      ]
     },
     "metadata": {},
     "output_type": "display_data"
    },
    {
     "data": {
      "application/vnd.jupyter.widget-view+json": {
       "model_id": "948cdbf4ea3e4c5bae416f072ad589c0",
       "version_major": 2,
       "version_minor": 0
      },
      "text/plain": [
       "IntSlider(value=0, max=300)"
      ]
     },
     "metadata": {},
     "output_type": "display_data"
    }
   ],
   "source": [
    "# Setup simulation\n",
    "sim = Simulation(env,fps = 100,name=\"RabbitsVsFoxesExperiment1\")\n",
    "_,episode_data = sim.run_episode(n_steps = 300,save = False,replay = True,fps_replay=25)"
   ]
  },
  {
   "cell_type": "code",
   "execution_count": 135,
   "metadata": {},
   "outputs": [
    {
     "data": {
      "image/png": "[encoded data removed]",
      "text/plain": [
       "<Figure size 1080x288 with 1 Axes>"
      ]
     },
     "metadata": {
      "needs_background": "light"
     },
     "output_type": "display_data"
    }
   ],
   "source": [
    "episode_data.groupby([\"step\",\"player\"])[\"gold\"].sum().unstack(\"player\").plot(figsize = (15,4))\n",
    "plt.show()"
   ]
  },
  {
   "cell_type": "code",
   "execution_count": null,
   "metadata": {},
   "outputs": [],
   "source": []
  }
 ],
 "metadata": {
  "kernelspec": {
   "display_name": "Python 3 (ipykernel)",
   "language": "python",
   "name": "python3"
  },
  "language_info": {
   "codemirror_mode": {
    "name": "ipython",
    "version": 3
   },
   "file_extension": ".py",
   "mimetype": "text/x-python",
   "name": "python",
   "nbconvert_exporter": "python",
   "pygments_lexer": "ipython3",
   "version": "3.8.8"
  },
  "toc": {
   "base_numbering": 1,
   "nav_menu": {},
   "number_sections": true,
   "sideBar": true,
   "skip_h1_title": false,
   "title_cell": "Table of Contents",
   "title_sidebar": "Contents",
   "toc_cell": false,
   "toc_position": {},
   "toc_section_display": true,
   "toc_window_display": false
  }
 },
 "nbformat": 4,
 "nbformat_minor": 2
}
